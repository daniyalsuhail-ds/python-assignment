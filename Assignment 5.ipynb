{
 "cells": [
  {
   "cell_type": "code",
   "execution_count": 1,
   "metadata": {},
   "outputs": [
    {
     "name": "stdout",
     "output_type": "stream",
     "text": [
      "Input a number to compute the factiorial : 3\n",
      "6\n"
     ]
    }
   ],
   "source": [
    "#Q1\n",
    "def factorial(number):\n",
    "    if number == 0:\n",
    "        return 1\n",
    "    else:\n",
    "        return number * factorial(number-1)\n",
    "number=int(input(\"Input a number to compute the factiorial : \"))\n",
    "print(factorial(number))"
   ]
  },
  {
   "cell_type": "code",
   "execution_count": 2,
   "metadata": {},
   "outputs": [
    {
     "name": "stdout",
     "output_type": "stream",
     "text": [
      "ORIGINAL STRING :  Wolf To The Moon\n",
      "No. Of Upper Case Characters :  4\n",
      "No. Of Lower Case Characters :  9\n"
     ]
    }
   ],
   "source": [
    "#Q2\n",
    "def string_test(st):\n",
    "    d={\"UPPER_CASE\":0, \"LOWER_CASE\":0}\n",
    "    for c in st:\n",
    "        if c.isupper():\n",
    "           d[\"UPPER_CASE\"]+=1\n",
    "        elif c.islower():\n",
    "           d[\"LOWER_CASE\"]+=1\n",
    "        else:\n",
    "           pass\n",
    "    print (\"ORIGINAL STRING : \", st)\n",
    "    print (\"No. Of Upper Case Characters : \", d[\"UPPER_CASE\"])\n",
    "    print (\"No. Of Lower Case Characters : \", d[\"LOWER_CASE\"])\n",
    "\n",
    "string_test(\"Wolf To The Moon\")"
   ]
  },
  {
   "cell_type": "code",
   "execution_count": 3,
   "metadata": {},
   "outputs": [
    {
     "name": "stdout",
     "output_type": "stream",
     "text": [
      "[10, 4, 2, 4, 2, 2, 2, 4, 42, 6, 64, 2, 32]\n"
     ]
    }
   ],
   "source": [
    "#Q3\n",
    "def is_even(l):\n",
    "    evenNo=[]\n",
    "    for num in l:\n",
    "        if num%2 == 0:\n",
    "            evenNo.append(num)\n",
    "    return evenNo\n",
    "print(is_even([10,11,4,2,4,2,5,2,1,5,2,1,4,42,1,6,64,2,32,1,7,9,11,13,15,17]))"
   ]
  },
  {
   "cell_type": "code",
   "execution_count": 4,
   "metadata": {},
   "outputs": [
    {
     "name": "stdout",
     "output_type": "stream",
     "text": [
      "Palindrome\n"
     ]
    }
   ],
   "source": [
    "#Q4\n",
    "def is_palindrome(word):\n",
    "    word_reverse = word[::-1]\n",
    "    if word == word_reverse:\n",
    "        return \"Palindrome\"\n",
    "    else:\n",
    "        return \"Not Palindrome\" \n",
    "print(is_palindrome(\"moom\"))"
   ]
  },
  {
   "cell_type": "code",
   "execution_count": 5,
   "metadata": {},
   "outputs": [
    {
     "name": "stdout",
     "output_type": "stream",
     "text": [
      "True\n"
     ]
    }
   ],
   "source": [
    "#Q5\n",
    "def prime(num):\n",
    "    if (num==1):\n",
    "        return False\n",
    "    elif(num==2):\n",
    "        return True\n",
    "    else:\n",
    "        for x in range(2,num):\n",
    "            if(num % x==0):\n",
    "                return False\n",
    "        return True\n",
    "print(prime(17))"
   ]
  },
  {
   "cell_type": "code",
   "execution_count": 8,
   "metadata": {},
   "outputs": [
    {
     "name": "stdout",
     "output_type": "stream",
     "text": [
      "Enter Shopping item [-1 to abort]: tomato\n",
      "Enter Shopping item [-1 to abort]: orange\n",
      "Enter Shopping item [-1 to abort]: apple\n",
      "Enter Shopping item [-1 to abort]: banana\n",
      "Enter Shopping item [-1 to abort]: bread\n",
      "Enter Shopping item [-1 to abort]: milk\n",
      "Enter Shopping item [-1 to abort]: egg\n",
      "Enter Shopping item [-1 to abort]: -1\n",
      "You purchased: tomato\n",
      "You purchased: orange\n",
      "You purchased: apple\n",
      "You purchased: banana\n",
      "You purchased: bread\n",
      "You purchased: milk\n",
      "You purchased: egg\n"
     ]
    }
   ],
   "source": [
    "#Q6\n",
    "def shoppingList(*items):\n",
    "     shoppingItems = []\n",
    "     while True:\n",
    "         item = input(\"Enter Shopping item [-1 to abort]: \")\n",
    "         if item != '-1':\n",
    "             shoppingItems.append(item)\n",
    "         else:\n",
    "             break\n",
    "     for item in range(len(shoppingItems)):\n",
    "         print(\"You purchased: {}\".format(shoppingItems[item]))\n",
    "shoppingList()"
   ]
  },
  {
   "cell_type": "code",
   "execution_count": null,
   "metadata": {},
   "outputs": [],
   "source": []
  },
  {
   "cell_type": "code",
   "execution_count": null,
   "metadata": {},
   "outputs": [],
   "source": []
  },
  {
   "cell_type": "code",
   "execution_count": null,
   "metadata": {},
   "outputs": [],
   "source": []
  },
  {
   "cell_type": "code",
   "execution_count": null,
   "metadata": {},
   "outputs": [],
   "source": []
  },
  {
   "cell_type": "code",
   "execution_count": null,
   "metadata": {},
   "outputs": [],
   "source": []
  },
  {
   "cell_type": "code",
   "execution_count": null,
   "metadata": {},
   "outputs": [],
   "source": []
  },
  {
   "cell_type": "code",
   "execution_count": null,
   "metadata": {},
   "outputs": [],
   "source": []
  },
  {
   "cell_type": "code",
   "execution_count": null,
   "metadata": {},
   "outputs": [],
   "source": []
  }
 ],
 "metadata": {
  "kernelspec": {
   "display_name": "Python 3",
   "language": "python",
   "name": "python3"
  },
  "language_info": {
   "codemirror_mode": {
    "name": "ipython",
    "version": 3
   },
   "file_extension": ".py",
   "mimetype": "text/x-python",
   "name": "python",
   "nbconvert_exporter": "python",
   "pygments_lexer": "ipython3",
   "version": "3.7.4"
  }
 },
 "nbformat": 4,
 "nbformat_minor": 2
}
