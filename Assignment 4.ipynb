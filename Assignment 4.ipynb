{
 "cells": [
  {
   "cell_type": "code",
   "execution_count": 1,
   "metadata": {},
   "outputs": [
    {
     "name": "stdout",
     "output_type": "stream",
     "text": [
      "ali\n",
      "ahmed\n",
      "20\n",
      "karachi\n",
      "{'first_name': 'ali', 'last_name': 'ahmed', 'age': 20, 'city': 'karachi', 'qualification': 'high academic level'}\n",
      "{'first_name': 'ali', 'last_name': 'ahmed', 'age': 20, 'city': 'karachi'}\n"
     ]
    }
   ],
   "source": [
    "##Q1\n",
    "person = {'first_name': 'ali','last_name': 'ahmed','age': 20,'city': 'karachi',}\n",
    "\n",
    "print(person['first_name'])\n",
    "print(person['last_name'])\n",
    "print(person['age'])\n",
    "print(person['city'])\n",
    "\n",
    "person[\"qualification\"] = \"high academic level\"\n",
    "\n",
    "print(person)\n",
    "\n",
    "del person[\"qualification\"]\n",
    "\n",
    "print(person)"
   ]
  },
  {
   "cell_type": "code",
   "execution_count": 2,
   "metadata": {},
   "outputs": [
    {
     "name": "stdout",
     "output_type": "stream",
     "text": [
      "{'Islamabad': {'country': 'Pakistan', 'population': 311312, 'facts': 'fresh air'}, 'Karachi': {'country': 'Pakistan', 'population': 37631212, 'facts': 'pollution'}, 'Murree': {'country': 'Pakistan', 'population': 12353569, 'facts': 'Snowfall'}}\n"
     ]
    }
   ],
   "source": [
    "##Q2\n",
    "cities = {\n",
    "    'Islamabad': {\n",
    "        'country': 'Pakistan',\n",
    "        'population': 311312,\n",
    "        'facts': 'fresh air',\n",
    "        },\n",
    "    'Karachi': {\n",
    "        'country': 'Pakistan',\n",
    "        'population': 37631212,\n",
    "        'facts': 'pollution',\n",
    "        },\n",
    "    'Murree': {\n",
    "        'country': 'Pakistan',\n",
    "        'population': 12353569,\n",
    "        'facts': 'Snowfall',\n",
    "        },\n",
    "    }\n",
    "\n",
    "print(cities)"
   ]
  },
  {
   "cell_type": "code",
   "execution_count": null,
   "metadata": {},
   "outputs": [
    {
     "name": "stdout",
     "output_type": "stream",
     "text": [
      "Please enter your age.\n"
     ]
    }
   ],
   "source": [
    "##Q3\n",
    "loop = True\n",
    "while loop:\n",
    "    print ('Please enter your age.')\n",
    "    age = input(\"Age \")\n",
    "\n",
    "    if age == 'end':\n",
    "        break\n",
    "\n",
    "    age = int(age)\n",
    "\n",
    "    if age < 3 and age >= 0:\n",
    "        price = 0\n",
    "    elif age >= 3 and age <= 12:\n",
    "        price = 10\n",
    "    elif age > 12:\n",
    "        price = 15\n",
    "    else:\n",
    "        print('Input not recognized')\n",
    "        break\n",
    "        \n",
    "    print('Your ticked price is $' + str(price) + '.')\n",
    "    print('\\n To check another person price please enter their age now or type \"end\" to exit')"
   ]
  },
  {
   "cell_type": "code",
   "execution_count": null,
   "metadata": {},
   "outputs": [],
   "source": [
    "##Q4\n",
    "def favorite_book(title):\n",
    "    ##Display a message about someone's favorite book.\n",
    "    print(\" One of my favorite book is \" + title)\n",
    "\n",
    "favorite_book('Alice in Wonderland')"
   ]
  },
  {
   "cell_type": "code",
   "execution_count": null,
   "metadata": {},
   "outputs": [],
   "source": [
    "##Q5\n",
    "import random\n",
    "randomNumber = random.randrange(0,30)\n",
    "print(\"Random number has been generated\")\n",
    "guessed = False\n",
    "while guessed==False:\n",
    "    userInput = int(input(\"Your guess please: \"))\n",
    "    if userInput==randomNumber:\n",
    "        guessed = True\n",
    "        print(\"Well done!\")\n",
    "    elif userInput>100:\n",
    "        print(\"Our guess range is between 0 and 100, please try a bit lower\")\n",
    "    elif userInput<0:\n",
    "        print(\"Our guess range is between 0 and 100, please try a bit higher\")\n",
    "    elif userInput>randomNumber:\n",
    "        print(\"Try one more time, a bit lower\")\n",
    "    elif userInput < randomNumber:\n",
    "        print(\"Try one more time, a bit higher\")\n",
    "\n",
    "print(\"End of program\")"
   ]
  },
  {
   "cell_type": "code",
   "execution_count": null,
   "metadata": {},
   "outputs": [],
   "source": []
  },
  {
   "cell_type": "code",
   "execution_count": null,
   "metadata": {},
   "outputs": [],
   "source": []
  },
  {
   "cell_type": "code",
   "execution_count": null,
   "metadata": {},
   "outputs": [],
   "source": []
  }
 ],
 "metadata": {
  "kernelspec": {
   "display_name": "Python 3",
   "language": "python",
   "name": "python3"
  },
  "language_info": {
   "codemirror_mode": {
    "name": "ipython",
    "version": 3
   },
   "file_extension": ".py",
   "mimetype": "text/x-python",
   "name": "python",
   "nbconvert_exporter": "python",
   "pygments_lexer": "ipython3",
   "version": "3.7.4"
  }
 },
 "nbformat": 4,
 "nbformat_minor": 2
}
