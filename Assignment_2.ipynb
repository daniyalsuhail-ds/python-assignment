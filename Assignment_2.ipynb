{
 "cells": [
  {
   "cell_type": "code",
   "execution_count": 2,
   "metadata": {},
   "outputs": [
    {
     "name": "stdout",
     "output_type": "stream",
     "text": [
      "Maths marks 12\n",
      "Science Marks 12\n",
      "English Makrs 12\n",
      "Urdu Marks 12\n",
      "Sindhi Marks 12\n",
      "C\n"
     ]
    }
   ],
   "source": [
    "## Q1\n",
    "Maths = int(input(\"Maths marks \"))\n",
    "Science = int(input(\"Science Marks \"))\n",
    "English = int(input(\"English Makrs \"))\n",
    "Urdu = int(input(\"Urdu Marks \"))\n",
    "Sindhi = int(input(\"Sindhi Marks \"))\n",
    "\n",
    "Total_Marks = Maths + Science + English + Urdu + Sindhi\n",
    "\n",
    "if (Total_Marks >= 100 and Total_Marks <= 125) :\n",
    "    print(\"A\")\n",
    "\n",
    "elif (Total_Marks >= 80 and Total_Marks < 100) :\n",
    "    print(\"B\")\n",
    "\n",
    "elif (Total_Marks >= 60 and Total_Marks < 80) :\n",
    "    print(\"C\")\n",
    "\n",
    "elif (Total_Marks >= 40 and Total_Marks < 60) :\n",
    "    print(\"D\")\n",
    "\n",
    "elif (Total_Marks < 40 and Total_Marks >= 0) :\n",
    "    print(\"F\")\n",
    "\n",
    "else :\n",
    "    print(\"Invalid Marks\")"
   ]
  },
  {
   "cell_type": "code",
   "execution_count": 3,
   "metadata": {},
   "outputs": [
    {
     "name": "stdout",
     "output_type": "stream",
     "text": [
      "Enter Number 21\n",
      "Odd Number\n"
     ]
    }
   ],
   "source": [
    "##Q2\n",
    "Random_Number = int(input(\"Enter Number \"))\n",
    "\n",
    "if (Random_Number%2 == 0) :\n",
    "    print(\"Even Number\")\n",
    "else :\n",
    "    print(\"Odd Number\")"
   ]
  },
  {
   "cell_type": "code",
   "execution_count": 4,
   "metadata": {},
   "outputs": [
    {
     "name": "stdout",
     "output_type": "stream",
     "text": [
      "9\n"
     ]
    }
   ],
   "source": [
    "##Q3\n",
    "_list = [23,34,43,43,43,43,43,23,12]\n",
    "\n",
    "print(len(_list))"
   ]
  },
  {
   "cell_type": "code",
   "execution_count": 6,
   "metadata": {},
   "outputs": [
    {
     "name": "stdout",
     "output_type": "stream",
     "text": [
      "293\n"
     ]
    }
   ],
   "source": [
    "##Q4\n",
    "a = [6, 6, 2, 2, 5, 90, 13, 21, 24, 65, 59]\n",
    "print(sum(a))"
   ]
  },
  {
   "cell_type": "code",
   "execution_count": 7,
   "metadata": {},
   "outputs": [
    {
     "name": "stdout",
     "output_type": "stream",
     "text": [
      "90\n",
      "2\n"
     ]
    }
   ],
   "source": [
    "##Q5\n",
    "\n",
    "a = [6, 6, 2, 2, 5, 90, 13, 21, 24, 65, 59]\n",
    "print(max(a))\n",
    "print(min(a))"
   ]
  },
  {
   "cell_type": "code",
   "execution_count": 8,
   "metadata": {},
   "outputs": [
    {
     "name": "stdout",
     "output_type": "stream",
     "text": [
      "[4, 2, 3, 1, 3]\n"
     ]
    }
   ],
   "source": [
    "##Q6\n",
    "a = [76, 4, 2, 3,1, 5, 8, 13, 3, 6, 8, 89]\n",
    "\n",
    "new_list = []\n",
    "\n",
    "for item in a:\n",
    "  \n",
    "    if item < 5:\n",
    "    \n",
    "        new_list.append(item)\n",
    "print(new_list)"
   ]
  },
  {
   "cell_type": "code",
   "execution_count": null,
   "metadata": {},
   "outputs": [],
   "source": []
  }
 ],
 "metadata": {
  "kernelspec": {
   "display_name": "Python 3",
   "language": "python",
   "name": "python3"
  },
  "language_info": {
   "codemirror_mode": {
    "name": "ipython",
    "version": 3
   },
   "file_extension": ".py",
   "mimetype": "text/x-python",
   "name": "python",
   "nbconvert_exporter": "python",
   "pygments_lexer": "ipython3",
   "version": "3.7.4"
  }
 },
 "nbformat": 4,
 "nbformat_minor": 2
}
