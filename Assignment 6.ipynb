{
 "cells": [
  {
   "cell_type": "code",
   "execution_count": 1,
   "metadata": {},
   "outputs": [],
   "source": [
    "#Q1\n",
    "\n",
    "#Object Oriented Programming is a paradigm or a style in which we become \n",
    "#capable to write code with understanding the real world scenario."
   ]
  },
  {
   "cell_type": "code",
   "execution_count": 2,
   "metadata": {},
   "outputs": [],
   "source": [
    "#Q2\n",
    "\n",
    "# Re-usability\n",
    "# Data Redundancy\n",
    "# Code Maintenance\n",
    "# Security\n",
    "# Design Benefits\n",
    "# Better productivity\n",
    "# Easy troubleshooting\n",
    "# Polymorphism Flexibility\n",
    "# Problems solving"
   ]
  },
  {
   "cell_type": "code",
   "execution_count": 3,
   "metadata": {},
   "outputs": [],
   "source": [
    "#Q3\n",
    "\n",
    "#METHOD\n",
    "\n",
    "# Method is called by its name, but it is associated to an object (dependent).\n",
    "# A method is implicitly passed the object on which it is invoked.\n",
    "# A method can operate on the data (instance variables) that is contained by the corresponding class.\n",
    "\n",
    "#FUNCTION\n",
    "\n",
    "# Function is block of code that is also called by its name. (independent)\n",
    "# The function can have different parameters or may not have any at all. If any parameters are passed, they are passed explicitly.\n",
    "# Function does not deal with Class and its instance concept."
   ]
  },
  {
   "cell_type": "markdown",
   "metadata": {},
   "source": [
    "# Q4\n",
    "\n",
    "- Class\n",
    " class is a model(blue print) having capablities to have Objects and attributes.\n",
    "\n",
    "- OBJECT\n",
    " Object is a real entity where class is a blue print(Concept) specificly.\n",
    " \n",
    "- Attribute\n",
    "Attributes are data stored inside a class or instance and represent the state or quality of the class or instance.\n",
    "\n",
    "- Behavior\n",
    "The behavior of an object is defined by its methods, which are the functions and subroutines defined within the object class. Methods determine what type of functionality a class has, how it modifies its data, and its overall behavior.\n",
    "\n"
   ]
  },
  {
   "cell_type": "code",
   "execution_count": 4,
   "metadata": {},
   "outputs": [],
   "source": [
    "#Q5\n",
    "class Car:\n",
    "    def __init__(self, model, color, name, company, size):\n",
    "        self.model = model;\n",
    "        self.color = color;\n",
    "        self.name = name;\n",
    "        self.company = company;\n",
    "        self.size = size;\n",
    "        \n",
    "    def run(self):\n",
    "        print(self.name, \"is running\")\n",
    "        \n",
    "    def ac():\n",
    "        print(\"on\")\n",
    "        \n",
    "    def fuel():\n",
    "        print(\"refuel\")"
   ]
  },
  {
   "cell_type": "code",
   "execution_count": null,
   "metadata": {},
   "outputs": [],
   "source": []
  }
 ],
 "metadata": {
  "kernelspec": {
   "display_name": "Python 3",
   "language": "python",
   "name": "python3"
  },
  "language_info": {
   "codemirror_mode": {
    "name": "ipython",
    "version": 3
   },
   "file_extension": ".py",
   "mimetype": "text/x-python",
   "name": "python",
   "nbconvert_exporter": "python",
   "pygments_lexer": "ipython3",
   "version": "3.7.4"
  }
 },
 "nbformat": 4,
 "nbformat_minor": 2
}
