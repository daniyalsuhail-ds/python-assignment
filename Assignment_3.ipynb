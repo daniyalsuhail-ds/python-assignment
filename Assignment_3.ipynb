{
 "cells": [
  {
   "cell_type": "code",
   "execution_count": 2,
   "metadata": {},
   "outputs": [
    {
     "name": "stdout",
     "output_type": "stream",
     "text": [
      "Enter the First value : 2\n",
      "Enter the Second Value 3\n",
      "Enter the operator : **\n",
      "2 power of 3 = 8\n"
     ]
    }
   ],
   "source": [
    "##Q1\n",
    "num1= input(\"Enter the First value : \") \n",
    "num2 = input(\"Enter the Second Value \")\n",
    "operator = input(\"Enter the operator : \")\n",
    "\n",
    "\n",
    "# Convert the strings into integers\n",
    "num1= int(num1)\n",
    "num2 = int(num2)\n",
    "\n",
    "\n",
    "\n",
    "# if they enter +, -, *, /,** then we need to provide output based on operator\n",
    "\n",
    "if operator == \"+\":\n",
    "    print(\"{} + {} = {}\".format(num1,num2, num1+num2))\n",
    "elif operator == \"-\":\n",
    "    print(\"{} - {} = {}\".format(num1,num2, num1-num2))\n",
    "elif operator == \"*\":\n",
    "    print(\"{} * {} = {}\".format(num1,num2, num1*num2))\n",
    "elif operator == \"/\":\n",
    "    print(\"{} / {} = {}\".format(num1,num2, num1/num2))\n",
    "elif operator == \"**\":\n",
    "    print(\"{} power of {} = {}\".format(num1,num2, num1**num2))\n",
    "        \n",
    "else:\n",
    "    print(\"Syntax error\")"
   ]
  },
  {
   "cell_type": "code",
   "execution_count": 8,
   "metadata": {},
   "outputs": [
    {
     "name": "stdout",
     "output_type": "stream",
     "text": [
      "Numeric value found : 4\n",
      "Numeric value found : 5\n",
      "Numeric value found : 6\n",
      "Numeric value found : 4.3\n"
     ]
    }
   ],
   "source": [
    "##Q2\n",
    "the_list = [\"Junaid\",  \"3\", 4,\"Hello\", 5, 6, 4.3]\n",
    "for value in the_list:\n",
    "    if type(value) == int or type(value) == float:\n",
    "        print(f\"Numeric value found : {value}\")\n",
    "        continue"
   ]
  },
  {
   "cell_type": "code",
   "execution_count": 10,
   "metadata": {},
   "outputs": [
    {
     "name": "stdout",
     "output_type": "stream",
     "text": [
      "My Name\n"
     ]
    }
   ],
   "source": [
    "##Q3\n",
    "dictionary_1 = {}\n",
    "dictionary_1[1] = \"My Name\"\n",
    "\n",
    "print(dictionary_1[1])"
   ]
  },
  {
   "cell_type": "code",
   "execution_count": 11,
   "metadata": {},
   "outputs": [
    {
     "name": "stdout",
     "output_type": "stream",
     "text": [
      "Sum = 302\n"
     ]
    }
   ],
   "source": [
    "##Q4\n",
    "result = 0\n",
    "dictionary_1 = {1: 2 , 2: \"String1\", 3: 200, 4:\"String2\", 5: 100}\n",
    "\n",
    "for value in dictionary_1.values():\n",
    "    if type(value) == int or type(value) == float:\n",
    "        result = result + value        \n",
    "        \n",
    "print(f\"Sum = {result}\")"
   ]
  },
  {
   "cell_type": "code",
   "execution_count": 13,
   "metadata": {},
   "outputs": [
    {
     "name": "stdout",
     "output_type": "stream",
     "text": [
      "Duplicated Junaid\n",
      "Duplicated Junaid\n",
      "Duplicated 1\n",
      "Duplicated 1\n",
      "Duplicated 0.4\n",
      "Duplicated 0.4\n"
     ]
    }
   ],
   "source": [
    "##Q5\n",
    "the_list = [\"Junaid\", \"Junaid\", 1, 1, 0.4, 0.4, 2, 3, 4, 5, 6]\n",
    "for value in the_list:\n",
    "    if  the_list.count(value) > 1:\n",
    "        print(f\"Duplicated {value}\")"
   ]
  },
  {
   "cell_type": "code",
   "execution_count": 18,
   "metadata": {},
   "outputs": [
    {
     "name": "stdout",
     "output_type": "stream",
     "text": [
      "enter Key of dictionary 3\n",
      "the key not is present in dictionary\n"
     ]
    }
   ],
   "source": [
    "##Q6\n",
    "d_dic={'a':1,'b':2}\n",
    "inp=input(\"enter Key of dictionary \")\n",
    "if inp in d_dic:\n",
    "    print(\"the key is present in dictionary \")\n",
    "else:\n",
    "    print(\"the key not is present in dictionary\")"
   ]
  },
  {
   "cell_type": "code",
   "execution_count": null,
   "metadata": {},
   "outputs": [],
   "source": []
  }
 ],
 "metadata": {
  "kernelspec": {
   "display_name": "Python 3",
   "language": "python",
   "name": "python3"
  },
  "language_info": {
   "codemirror_mode": {
    "name": "ipython",
    "version": 3
   },
   "file_extension": ".py",
   "mimetype": "text/x-python",
   "name": "python",
   "nbconvert_exporter": "python",
   "pygments_lexer": "ipython3",
   "version": "3.7.4"
  }
 },
 "nbformat": 4,
 "nbformat_minor": 2
}
